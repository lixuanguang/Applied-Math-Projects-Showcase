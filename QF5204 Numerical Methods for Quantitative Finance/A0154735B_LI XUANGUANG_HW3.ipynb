{
 "cells": [
  {
   "cell_type": "markdown",
   "metadata": {
    "pycharm": {
     "name": "#%% md\n"
    }
   },
   "source": [
    "### Assignment 3\n",
    "\n",
    "#### Submit your assignment as .ipynb"
   ]
  },
  {
   "cell_type": "markdown",
   "metadata": {
    "pycharm": {
     "name": "#%% md\n"
    }
   },
   "source": [
    "#### Exercise 1.\n",
    "\n",
    "A quanto option (http://en.wikipedia.org/wiki/Quanto), unlike a normal European option that pays the final payoff in the denominated currency of the underlying stock or asset,\n",
    "it pays the final payoff in another currency at a pre-determined exchange rate.\n",
    "For example, a stock $S_a$ is listed on Singapore Exchange (SGX) and denominatd in SGD.\n",
    "A quanto call option allows the holder to receive the payoff $\\max(S_a-K, 0)$ in another currency (called the quanto currency), e.g., JPY,  at a pre-fixed exchange rate $F_0 = 100$.\n",
    "The payoff of the quanto call option in the stock's denominatd currency is thus\n",
    "$F_0 \\times \\max(S_a(T)-K, 0) \\times S_b(T)$ where $S_b$ is the value of one quanto currency in the unit of the stock's denominated currency.\n",
    "\n",
    "Assuming the stock and the quanto-denominated currency pair both follow geometric Brownian motion:\n",
    "\\begin{align}\n",
    "& dS_a(t) / S_a(t) = (r_d - r_a) dt + \\sigma_a dW_a \\\\\n",
    "& dS_b(t) / S_b(t) = (r_d - r_b) dt + \\sigma_b dW_b \\\\\n",
    "& dW_a dW_b = \\rho dt\n",
    "\\end{align}\n",
    "\n",
    "where $r_d$ is the risk free interest rate of the stock's denominated currency,\n",
    "$r_a$ is the continuous yield of the stock,\n",
    "and $r_b$ is the interest rate of the quanto currency,\n",
    "and $\\rho \\in [-1, 1]$ is the correlation between the stock price and the foreign exchange rate.\n",
    "\n",
    "Prove that the closed form solution for a quanto European call option is:\n",
    "\\begin{align}\n",
    "S_b(0) F e^{-r_bT}\\left( S_a(0) e^{(r_d - r_a + \\rho \\sigma_a \\sigma_b)T} N(d_+) - K N(d_-)  \\right).\n",
    "\\end{align}\n",
    "where\n",
    "\\begin{align*}\n",
    "d_{\\pm} = \\frac{\\ln \\frac{S_a(0)}{K} + (r_d - r_a + \\rho \\sigma_a \\sigma_b \\pm \\frac{1}{2}\\sigma_a^2)T}{\\sigma_a \\sqrt{T}}\n",
    "\\end{align*}\n",
    "\n",
    "Implement an function to price a quanto European call option in closed form:"
   ]
  },
  {
   "cell_type": "markdown",
   "metadata": {},
   "source": [
    "# Proof\n",
    "\n",
    "Let $B_t$ be a risk-free bond.\n",
    "\n",
    "The SDE is \n",
    "\\begin{align}\n",
    "& dS_a(t) / S_a(t) = (r_d - r_a) dt + \\sigma_a dW_a \\\\\n",
    "& dS_b(t) / S_b(t) = (r_d - r_b) dt + \\sigma_b dW_b \\\\\n",
    "& dW_a dW_b = \\rho dt\\\\\n",
    "& dB_t = (r_d - r_a) dt\n",
    "\\end{align}\n",
    "\n",
    "Let payoff be $V_T= F_0 \\times \\max(S_a(T)-K, 0) \\times S_b(T)$, where $V_t$ is the value of quanto European call option at time $t$.\n",
    "\n",
    "Note that under numeraire $S_b$, we have \n",
    "\\begin{align}\n",
    "\\frac{V_t}{S_b(t)} = E_{t}^{S_b}[\\frac{V_T}{S_b(T)}] = F_0 \\times E_{t}^{S_b}[\\max(S_a(T)-K, 0)]\n",
    "\\end{align}\n",
    "\n",
    "At time $t=0$, we then have price\n",
    "\\begin{align}\n",
    "V_0 =S_b(0) \\times F_0 \\times E_{t}^{S_b}[\\max(S_a(T)-K, 0)]\n",
    "\\end{align}\n",
    "\n",
    "To find the SDE of $S_a(t)$ under numeraire $S_b$, introduce Brownian motion $W_z$ (independent with respect to $S_a$ and $S_b$). Brownian motion is then\n",
    "\\begin{align}\n",
    "dW_b = \\rho dW_a + \\sqrt{1- \\rho^2}dW_z\n",
    "\\end{align}\n",
    "\n",
    "Using 2-dimensional Girsanov Theorem, assuming $(\\theta_a, \\theta_z)$ is a constant vector, that\n",
    "\\begin{align}\n",
    "& dW_{a}^{S_b} = dW_a - \\theta_{a}dt \\\\\n",
    "& dW_{z}^{S_b} = dW_z - \\theta_{z}dt\n",
    "\\end{align}\n",
    "\n",
    "By Ito's Lemma, we then have\n",
    "\\begin{align}\n",
    "d(\\frac{S_a(t)}{S_b(t)}) &= \\frac{1}{S_b(t)}dS_a(t) - \\frac{S_a(t)}{S_{b}^{2}(t)}dS_b(t)+\\frac{1}{2} 2 \\frac{S_a(t)}{S_{b}^{3}}(dS_b(t))^{2} - \\frac{1}{S_{b}^{2}}dS_a(t)dS_b(t) \\\\\n",
    "&= \\frac{S_a}{S_b}((r_d - r_a)dt + \\sigma_{a}dW_a) - \\frac{S_a}{S_b}((r_d - r_b)dt + \\sigma_{b}dW_b) + \\frac{S_a}{S_b} \\sigma_{b}^{2}dt - \\frac{S_a}{S_b} \\rho \\sigma_{a} \\sigma_{b}dt \\\\\n",
    "d(\\frac{B_t}{S_b(t)}) & = \\frac{1}{S_b(t)}dB_t - \\frac{B_t}{S_{b}^{2}(t)}dS_b(t)+ \\frac{1}{2} 2 \\frac{B_t}{S_{b}^{3}(t)}(dS_b(t))^{2}\\\\\n",
    "&= \\frac{B_t}{S_b(t)} r_d dt - \\frac{B_t}{S_b(t)}((r_d - r_b)dt + \\sigma_{b}dW_b) + \\frac{B_t}{S_b(t)} \\sigma^{2}dt\n",
    "\\end{align}\n",
    "\n",
    "Note that $\\frac{S_a(t)}{S_b(t)}$ and $\\frac{B_t}{S_b(t)}$ is a martingale under measure $S_b$, so the drift term of corresponding SDE is zero.\n",
    "\\begin{align}\n",
    "& (r_d-r_a) + \\sigma_{a} \\theta_{a} - ((r_d - r_b)+\\sigma_{b} \\rho \\theta_{a} + \\sigma_{b} \\sqrt{1-\\rho^{2}}\\theta_z)+ \\sigma_{b}^{2} - \\rho \\sigma_{a} \\sigma_{b} = 0 \\\\\n",
    "& (r_d - r_a) - ((r_d - r_b)+ \\rho \\sigma_{b} \\theta_{a} + \\sqrt{1- \\rho^{2}} \\sigma_{b} \\theta_{z}) + \\sigma_{b}^{2} = 0\n",
    "\\end{align}\n",
    "\n",
    "Hence, we have $\\theta_{a} = \\rho \\sigma_{b}$. Substituting into SDE of $S_a(t)$,\n",
    "\\begin{align}\n",
    "\\frac{dS_a}{S_a} &= (r_d - r_a)dt + \\sigma_{a}(dW_{a}^{S_b} + \\theta_a dt) \\\\\n",
    "&= (r_d - r_a)dt + \\sigma_{a}(dW_{a}^{S_b} + \\rho \\sigma_{b} dt) \\\\\n",
    "&= (r_d - r_a + \\rho \\sigma_{a} \\sigma_{b})dt + \\sigma_{a} dW_{a}^{S_b}\n",
    "\\end{align}\n",
    "\n",
    "By Black-Scholes formula for European call, we then have the closed form solution\n",
    "\\begin{align}\n",
    "S_b(0) F_0 \\left( S_a(0) e^{(r_d - r_a + \\rho \\sigma_a \\sigma_b)T} N(d_+) - K N(d_-)  \\right)\n",
    "\\end{align}\n",
    "where,\n",
    "\\begin{align*}\n",
    "& d_{\\pm} = \\frac{\\ln \\frac{S_a(0)}{K} + (r_d - r_a + \\rho \\sigma_a \\sigma_b \\pm \\frac{1}{2}\\sigma_a^2)T}{\\sigma_a \\sqrt{T}} \\\\\n",
    "& F_0 = F e^{-r_bT}\n",
    "\\end{align*}"
   ]
  },
  {
   "cell_type": "code",
   "execution_count": 1,
   "metadata": {
    "pycharm": {
     "name": "#%%\n"
    }
   },
   "outputs": [],
   "source": [
    "import math \n",
    "import numpy as np\n",
    "import matplotlib.pyplot as plt\n",
    "\n",
    "def cnorm(x):\n",
    "    return (1.0 + math.erf(x / math.sqrt(2.0))) / 2.0\n",
    "\n",
    "def quantoCallAnalytic(rd, ra, rb, sigmaA, sigmaB, rho, s_a0, s_b0, T, K, F0):\n",
    "    d1 = ((math.log(s_a0/K)) + (rd - ra + rho*sigmaA*sigmaB + (sigmaA*sigmaA)/2) * T) / (sigmaA * math.sqrt(T))\n",
    "    d2 = d1 - sigmaA * math.sqrt(T)\n",
    "    price = s_b0 * F0 * math.exp(-rb*T) * (s_a0 * math.exp((rd - ra + rho * sigmaA * sigmaB)* T) * cnorm(d1) - K * cnorm(d2))\n",
    "    return price"
   ]
  },
  {
   "cell_type": "markdown",
   "metadata": {
    "pycharm": {
     "name": "#%% md\n"
    }
   },
   "source": [
    "Price a call option with"
   ]
  },
  {
   "cell_type": "code",
   "execution_count": 2,
   "metadata": {
    "pycharm": {
     "name": "#%%\n"
    }
   },
   "outputs": [
    {
     "data": {
      "text/plain": [
       "7.7022809703402455"
      ]
     },
     "execution_count": 2,
     "metadata": {},
     "output_type": "execute_result"
    }
   ],
   "source": [
    "s_a0,s_b0=100,1/80\n",
    "T,K,F0=1,102,100,\n",
    "rd,ra,rb=0.02,0.05,0.01,\n",
    "sigmaA,sigmaB,rho=0.2,0.15,0.4\n",
    "quantoCallAnalytic(rd, ra, rb, sigmaA, sigmaB, rho, s_a0, s_b0, T, K, F0)"
   ]
  },
  {
   "cell_type": "markdown",
   "metadata": {
    "pycharm": {
     "name": "#%% md\n"
    }
   },
   "source": [
    "Plot the change of price with respect to the change of correlation.\n",
    "Include in the submission the derivation of the closed form formula, the implementation of the function, and test results."
   ]
  },
  {
   "cell_type": "code",
   "execution_count": 3,
   "metadata": {},
   "outputs": [
    {
     "data": {
      "image/png": "[encoded data removed]",
      "text/plain": [
       "<Figure size 640x480 with 1 Axes>"
      ]
     },
     "metadata": {},
     "output_type": "display_data"
    }
   ],
   "source": [
    "prs = [quantoCallAnalytic(rd, ra, rb, sigmaA, sigmaB, i, s_a0, s_b0, T, K, F0) for i in list(np.linspace(-1,1,300))]\n",
    "plt.plot(list(np.linspace(-1,1,300)), prs, label = 'Price')\n",
    "plt.xlabel('Rho')\n",
    "plt.legend()\n",
    "plt.show()"
   ]
  },
  {
   "cell_type": "markdown",
   "metadata": {
    "pycharm": {
     "name": "#%% md\n"
    }
   },
   "source": [
    "#### Exercise 2.\n",
    "\n",
    "Implement a Monte Carlo pricer to price the quanto call option in the stock's denominated currency"
   ]
  },
  {
   "cell_type": "code",
   "execution_count": 4,
   "metadata": {
    "pycharm": {
     "name": "#%%\n"
    }
   },
   "outputs": [],
   "source": [
    "def doublequantoCallOptionMC(rd, ra, rb, sigmaA, sigmaB, rho, s_a0, s_b0, T, K, F0, nPath):\n",
    "    nT = 100\n",
    "    np.random.seed(0)\n",
    "    sum, hsquare, C = 0, 0, np.identity(2)\n",
    "    C[0, 1] = C[1, 0] = rho\n",
    "    L = np.linalg.cholesky(C)\n",
    "    for i in range(nPath):\n",
    "        brownians = np.zeros((2, nT))\n",
    "        dt = T / nT\n",
    "        stdev = math.sqrt(dt)\n",
    "        # generate brownian increments\n",
    "        for j in range(2):\n",
    "            brownians[j] = np.random.normal(0, stdev, nT)\n",
    "        brownians = np.matmul(L, brownians)\n",
    "        x1, x2 = math.log(s_a0), math.log(s_b0)\n",
    "        for j in range(nT):\n",
    "            # simulate asset 1\n",
    "            a = (rd-ra-0.5*sigmaA*sigmaA) * dt # drift for asset 1\n",
    "            b = brownians[0, j] * sigmaA # diffusion term for asset 1\n",
    "            x1 += a + b  # update state variable\n",
    "            # simulate asset 2\n",
    "            a = (rd-rb-0.5*sigmaB*sigmaB) * dt # drift for asset 1\n",
    "            b = brownians[1, j] * sigmaB # diffusion term for asset 1\n",
    "            x2 += a + b  # update state variable\n",
    "        S1 = math.exp(x1)\n",
    "        S2 = math.exp(x2)\n",
    "        h = F0 * (max(S1-K, 0)) * S2\n",
    "        sum += h\n",
    "        hsquare += h*h\n",
    "    pv = math.exp(-rd * T) * sum / nPath\n",
    "    se = math.sqrt((hsquare/nPath - (sum/nPath)*(sum/nPath))/nPath)\n",
    "    return pv, se"
   ]
  },
  {
   "cell_type": "code",
   "execution_count": 5,
   "metadata": {},
   "outputs": [
    {
     "data": {
      "text/plain": [
       "7.411005379425791"
      ]
     },
     "execution_count": 5,
     "metadata": {},
     "output_type": "execute_result"
    }
   ],
   "source": [
    "doublequantoCallOptionMC(rd, ra, rb, sigmaA, sigmaB, rho, s_a0, s_b0, T, K, F0, 1000)[0]"
   ]
  },
  {
   "cell_type": "markdown",
   "metadata": {
    "pycharm": {
     "name": "#%% md\n"
    }
   },
   "source": [
    "The Monte Carlo price should simulate $S_a$ and $S_b$.\n",
    "Compare the result with the closed form solution. Plot the convergence chart for different number of simulation paths.\n",
    "\n"
   ]
  },
  {
   "cell_type": "code",
   "execution_count": 6,
   "metadata": {},
   "outputs": [
    {
     "data": {
      "image/png": "[encoded data removed]",
      "text/plain": [
       "<Figure size 640x480 with 1 Axes>"
      ]
     },
     "metadata": {},
     "output_type": "display_data"
    }
   ],
   "source": [
    "s_a0,s_b0=100,1/80\n",
    "T,K,F0=1,102,100,\n",
    "rd,ra,rb=0.02,0.05,0.01,\n",
    "sigmaA,sigmaB,rho=0.2,0.15,0.4\n",
    "npaths = [int(i) for i in list(np.linspace(1000,100000,10))]\n",
    "# Closed form\n",
    "fpr = quantoCallAnalytic(rd, ra, rb, sigmaA, sigmaB, rho, s_a0, s_b0, T, K, F0)\n",
    "# Monte Carlo\n",
    "se_s = [(doublequantoCallOptionMC(rd, ra, rb, sigmaA, sigmaB, rho, s_a0, s_b0, T, K, F0, i))[1] for i in npaths]\n",
    "diff = [((doublequantoCallOptionMC(rd, ra, rb, sigmaA, sigmaB, rho, s_a0, s_b0, T, K, F0, i))[0] - fpr ) for i in npaths]\n",
    "plt.figure()\n",
    "plt.plot(npaths, diff, label = 'Analytic Pricer', marker = 'o')\n",
    "plt.plot(npaths, se_s ,'r', label = 'Standard Error', marker = 's')\n",
    "plt.xlabel('npaths')\n",
    "plt.legend()\n",
    "plt.grid()\n",
    "plt.show()"
   ]
  },
  {
   "cell_type": "markdown",
   "metadata": {
    "pycharm": {
     "name": "#%% md\n"
    }
   },
   "source": [
    "#### Exercise 3.\n",
    "\n",
    "Implement a Monte-Carlo pricer that prices quanto arithmetic Asian call option.\n",
    "A quanto arithmetic Asian call option pays the option holder $F_0 \\times \\max(A - K, 0)$ on the settlement date $t_s$ in the quanto currency, where\n",
    "\n",
    "\\begin{align}\n",
    "A = \\frac{1}{n}\\sum_{i=1}^n S_a(t_i).\n",
    "\\end{align}\n",
    "\n",
    "where $t_1 < t_2 < \\ldots < t_n \\leq t_s$. Equivalently, the payoff in the underlying's denominated currency is $F \\times \\max(A - K, 0) \\times S_b(t_s)$, where $S_b$ is the value of one quanto currency in the unit of underlying's denominated currency.\n",
    "\n",
    "Design the signature of the pricer, explain the main difference from the implementation in exercise 2.\n",
    "Conduct test cases that demonstrate the correctness of the implementation (e.g., for degenerate case with only 1 fixing, the closed form solution exists and the price converges).\n"
   ]
  },
  {
   "cell_type": "code",
   "execution_count": 7,
   "metadata": {},
   "outputs": [],
   "source": [
    "def monteasianpricer(rd, ra, rb, sigmaA, sigmaB, rho, s_a0, s_b0, fds, K, F0, nPath, nT):\n",
    "    sum, hsquare, C = 0, 0, np.identity(2)\n",
    "    np.random.seed(0)\n",
    "    C[0, 1] = C[1, 0] = rho\n",
    "    L = np.linalg.cholesky(C)\n",
    "    nfds = len(fds)\n",
    "    T = fds[-1]\n",
    "    for i in range(nPath):\n",
    "        brownians = np.zeros((2, nT))\n",
    "        dt = T / nT\n",
    "        stdev = math.sqrt(dt)\n",
    "        for j in range(2):\n",
    "            brownians[j] = np.random.normal(0,stdev, nT)\n",
    "        brownians =  np.matmul(L, brownians)\n",
    "        x1 = math.log(s_a0)\n",
    "        x2 = math.log(s_b0)\n",
    "        for j in range(nT):\n",
    "            a = (rd-rb-0.5*sigmaB*sigmaB) * dt\n",
    "            b = brownians[1, j] * sigmaB\n",
    "            x2 += a + b\n",
    "        Sb_T = math.exp(x2)\n",
    "        \n",
    "        Sa = []\n",
    "        for k in range(nfds):\n",
    "            nT_k = (fds[k]/T)*nT\n",
    "            for j in range(int(nT_k)):\n",
    "                a = (rd-ra-0.5*sigmaA*sigmaA) * dt\n",
    "                b = brownians[0, j] * sigmaA\n",
    "                x1 += a + b\n",
    "            Sa_k = math.exp(x1)\n",
    "            Sa.append(Sa_k)\n",
    "        A = np.mean(Sa)\n",
    "        h = F0 * (max(A-K,0)) * Sb_T\n",
    "        sum += h\n",
    "        hsquare += h*h\n",
    "    pv = math.exp(-rd * T) * sum / nPath\n",
    "    se = math.sqrt((hsquare/nPath - (sum/nPath)*(sum/nPath))/nPath)\n",
    "    return pv, se"
   ]
  },
  {
   "cell_type": "code",
   "execution_count": 8,
   "metadata": {},
   "outputs": [
    {
     "data": {
      "text/plain": [
       "(7.661694023765448, 1.5998698360337456)"
      ]
     },
     "execution_count": 8,
     "metadata": {},
     "output_type": "execute_result"
    }
   ],
   "source": [
    "s_a0,s_b0=100,1/80\n",
    "T,K,F0=1,102,100,\n",
    "rd,ra,rb=0.02,0.05,0.01,\n",
    "sigmaA,sigmaB,rho=0.2,0.15,0.4\n",
    "fds,nPath,nT = [1],100,1000\n",
    "monteasianpricer(rd, ra, rb, sigmaA, sigmaB, rho, s_a0, s_b0, fds, K, F0, nPath, nT)"
   ]
  },
  {
   "cell_type": "markdown",
   "metadata": {
    "collapsed": false,
    "pycharm": {
     "name": "#%% md\n"
    }
   },
   "source": [
    "#### Exercise 4.\n",
    "\n",
    "On 21 Apr 2020, WTI Crude Oil May 2020 contract collapsed to negative for the first time.\n",
    "This posed challenges to clearing houses\\footnote{The Chicago Mercantile Exchange announced to switch to its pricing and margining options model from Black-Scholes to a normal vol Bachelier model if oil contract price is close to 0 (\\url{https://www.cmegroup.com/content/dam/cmegroup/notices/clearing/2020/04/Chadv20-152.pdf}).} to calcualte settlement and margin for option contracts, and for financial institues to risk manage their positions.\n",
    "One way to represent possible negative prices is to use a shifted log-normal model (not necessarily realisic and easy to risk manage):\n",
    "\\begin{align}\n",
    "    \\frac{dS_t}{(S_t+A)} = rdt + \\sigma dW_t\n",
    "\\end{align}\n",
    "\n",
    "where $A$ is a constant. In the context of crude oil futures, $A$ could represent the cost of delivery and storage (note also that commodity underlyings are normally not modelled as spot process, since Futures and Forwards are much more liquid than spot, here we are making simplifications again).\n",
    "\n",
    "Implement a MC pricer to use the shifted log-normal model to price European payoffs."
   ]
  },
  {
   "cell_type": "code",
   "execution_count": 9,
   "metadata": {
    "collapsed": false,
    "pycharm": {
     "name": "#%%\n"
    }
   },
   "outputs": [],
   "source": [
    "from enum import Enum\n",
    "\n",
    "class PayoffType(str, Enum):\n",
    "    Call = 'Call'\n",
    "    Put = 'Put'\n",
    "\n",
    "def mcShiftedLogN(payoff, nPaths, S, shift, T, r, sigma):\n",
    "    nT = 100\n",
    "    np.random.seed(0)\n",
    "    sum,hsquare = 0,0\n",
    "    dt = T / nT\n",
    "    stdev = math.sqrt(dt)\n",
    "    for i in range(nPaths):\n",
    "        X = math.log(S+shift)\n",
    "        for j in range(1, nT+1):\n",
    "            a = (r - 0.5*sigma*sigma) *dt\n",
    "            b = np.random.normal(0, stdev) * sigma\n",
    "            X += a + b\n",
    "        St = math.exp(X)-shift\n",
    "        if payoff == PayoffType.Call:\n",
    "            h = math.exp(-r*T)*(max(St - K, 0))\n",
    "        elif payoff == PayoffType.Put:\n",
    "            h = math.exp(-r*T)*(max(K - St, 0))\n",
    "        sum += h\n",
    "        hsquare += h*h\n",
    "    pv = math.exp(-r * T) * sum / nPaths\n",
    "    stderr = math.sqrt((hsquare / nPaths - (sum / nPaths) * (sum / nPaths)) / nPaths)\n",
    "    return pv, stderr"
   ]
  },
  {
   "cell_type": "markdown",
   "metadata": {
    "collapsed": false,
    "pycharm": {
     "name": "#%% md\n"
    }
   },
   "source": [
    "Describe your state variable and the step-wise induction formula using Euler discretization scheme.\n",
    "Price an put option with $S_0 = -10, T=1, \\sigma=150\\%, r = 2\\%, and\\ K = 5$, for the shift A ranging from 15 to 100.\n",
    "\n"
   ]
  },
  {
   "cell_type": "code",
   "execution_count": 10,
   "metadata": {
    "collapsed": false,
    "pycharm": {
     "name": "#%%\n"
    }
   },
   "outputs": [
    {
     "data": {
      "image/png": "[encoded data removed]",
      "text/plain": [
       "<Figure size 640x480 with 1 Axes>"
      ]
     },
     "metadata": {},
     "output_type": "display_data"
    }
   ],
   "source": [
    "S, T = -10, 1\n",
    "sigma, r, K = 1.5, 0.02, 5\n",
    "nPaths = 1000\n",
    "prices = [mcShiftedLogN(PayoffType.Put, nPaths, S, A, T, r, sigma)[0] for A in range(15,101)]\n",
    "plt.plot(range(15,101),prices)\n",
    "plt.xlabel('A')\n",
    "plt.ylabel('Price')\n",
    "plt.grid()\n",
    "plt.show()"
   ]
  }
 ],
 "metadata": {
  "kernelspec": {
   "display_name": "Python 3 (ipykernel)",
   "language": "python",
   "name": "python3"
  },
  "language_info": {
   "codemirror_mode": {
    "name": "ipython",
    "version": 3
   },
   "file_extension": ".py",
   "mimetype": "text/x-python",
   "name": "python",
   "nbconvert_exporter": "python",
   "pygments_lexer": "ipython3",
   "version": "3.11.7"
  }
 },
 "nbformat": 4,
 "nbformat_minor": 1
}
